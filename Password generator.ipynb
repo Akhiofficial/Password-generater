{
 "cells": [
  {
   "cell_type": "code",
   "execution_count": 5,
   "id": "0697d924",
   "metadata": {},
   "outputs": [
    {
     "name": "stdout",
     "output_type": "stream",
     "text": [
      "Generated Password: %dTSLMCk\"h-s2HuY\n"
     ]
    }
   ],
   "source": [
    "import random\n",
    "import string\n",
    "\n",
    "def generate_password(length=12, uppercase=True, lowercase=True, numbers=True, special_chars=True):\n",
    "    characters = \"\"\n",
    "\n",
    "    if uppercase:\n",
    "        characters += string.ascii_uppercase\n",
    "    if lowercase:\n",
    "        characters += string.ascii_lowercase\n",
    "    if numbers:\n",
    "        characters += string.digits\n",
    "    if special_chars:\n",
    "        characters += string.punctuation\n",
    "\n",
    "    if not any([uppercase, lowercase, numbers, special_chars]):\n",
    "        print(\"Please enable at least one type of characters.\")\n",
    "        return None\n",
    "\n",
    "    password = ''.join(random.choice(characters) for _ in range(length))\n",
    "    return password\n",
    "\n",
    "# Example usage\n",
    "generated_password = generate_password(length=16, uppercase=True, lowercase=True, numbers=True, special_chars=True)\n",
    "print(\"Generated Password:\", generated_password)\n"
   ]
  },
  {
   "cell_type": "code",
   "execution_count": 1,
   "id": "66c31a6a",
   "metadata": {
    "scrolled": true
   },
   "outputs": [
    {
     "ename": "NameError",
     "evalue": "name 'generate_password' is not defined",
     "output_type": "error",
     "traceback": [
      "\u001b[1;31m---------------------------------------------------------------------------\u001b[0m",
      "\u001b[1;31mNameError\u001b[0m                                 Traceback (most recent call last)",
      "Cell \u001b[1;32mIn[1], line 1\u001b[0m\n\u001b[1;32m----> 1\u001b[0m generated_password \u001b[38;5;241m=\u001b[39m generate_password(length\u001b[38;5;241m=\u001b[39m\u001b[38;5;241m16\u001b[39m, uppercase\u001b[38;5;241m=\u001b[39m\u001b[38;5;28;01mTrue\u001b[39;00m, lowercase\u001b[38;5;241m=\u001b[39m\u001b[38;5;28;01mTrue\u001b[39;00m, numbers\u001b[38;5;241m=\u001b[39m\u001b[38;5;28;01mTrue\u001b[39;00m, special_chars\u001b[38;5;241m=\u001b[39m\u001b[38;5;28;01mTrue\u001b[39;00m)\n\u001b[0;32m      2\u001b[0m \u001b[38;5;28mprint\u001b[39m(\u001b[38;5;124m\"\u001b[39m\u001b[38;5;124mGenerated Password:\u001b[39m\u001b[38;5;124m\"\u001b[39m, generated_password)\n",
      "\u001b[1;31mNameError\u001b[0m: name 'generate_password' is not defined"
     ]
    }
   ],
   "source": [
    "generated_password = generate_password(length=16, uppercase=True, lowercase=True, numbers=True, special_chars=True)\n",
    "print(\"Generated Password:\", generated_password)"
   ]
  },
  {
   "cell_type": "code",
   "execution_count": 1,
   "id": "23e52bfd",
   "metadata": {},
   "outputs": [
    {
     "ename": "NameError",
     "evalue": "name 'generate_password' is not defined",
     "output_type": "error",
     "traceback": [
      "\u001b[1;31m---------------------------------------------------------------------------\u001b[0m",
      "\u001b[1;31mNameError\u001b[0m                                 Traceback (most recent call last)",
      "Cell \u001b[1;32mIn[1], line 1\u001b[0m\n\u001b[1;32m----> 1\u001b[0m generated_password \u001b[38;5;241m=\u001b[39m generate_password(length\u001b[38;5;241m=\u001b[39m\u001b[38;5;241m4\u001b[39m)\n\u001b[0;32m      2\u001b[0m \u001b[38;5;28mprint\u001b[39m(generated_password)\n",
      "\u001b[1;31mNameError\u001b[0m: name 'generate_password' is not defined"
     ]
    }
   ],
   "source": [
    "generated_password = generate_password(length=4)\n",
    "print(generated_password)"
   ]
  },
  {
   "cell_type": "code",
   "execution_count": null,
   "id": "a022c9a0",
   "metadata": {},
   "outputs": [],
   "source": []
  }
 ],
 "metadata": {
  "kernelspec": {
   "display_name": "Python 3 (ipykernel)",
   "language": "python",
   "name": "python3"
  },
  "language_info": {
   "codemirror_mode": {
    "name": "ipython",
    "version": 3
   },
   "file_extension": ".py",
   "mimetype": "text/x-python",
   "name": "python",
   "nbconvert_exporter": "python",
   "pygments_lexer": "ipython3",
   "version": "3.11.4"
  }
 },
 "nbformat": 4,
 "nbformat_minor": 5
}
